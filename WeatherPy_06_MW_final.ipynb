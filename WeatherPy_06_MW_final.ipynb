{
 "cells": [
  {
   "cell_type": "code",
   "execution_count": 3,
   "metadata": {},
   "outputs": [
    {
     "name": "stdout",
     "output_type": "stream",
     "text": [
      "25bc90a1196e6f153eece0bc0b0fc9eb\n"
     ]
    }
   ],
   "source": [
    "# Dependencies and Setup\n",
    "import matplotlib.pyplot as plt\n",
    "import pandas as pd\n",
    "import numpy as np\n",
    "import requests\n",
    "import time\n",
    "import json\n",
    "\n",
    "# Import API key\n",
    "from api_keys import api_key\n",
    "print(api_key)\n",
    "\n",
    "# Incorporated citipy to determine city based on latitude and longitude\n",
    "from citipy import citipy\n",
    "\n",
    "# Output File (CSV)\n",
    "output_data_file = \"output_data/cities.csv\"\n",
    "\n",
    "# Range of latitudes and longitudes\n",
    "lat_range = (-90, 90)\n",
    "lng_range = (-180, 180)"
   ]
  },
  {
   "cell_type": "code",
   "execution_count": 4,
   "metadata": {},
   "outputs": [
    {
     "data": {
      "text/plain": [
       "614"
      ]
     },
     "execution_count": 4,
     "metadata": {},
     "output_type": "execute_result"
    }
   ],
   "source": [
    "# List for holding lat_lngs and cities\n",
    "lat_lngs = []\n",
    "cities = []\n",
    "\n",
    "# Create a set of random lat and lng combinations\n",
    "lats = np.random.uniform(low=-90.000, high=90.000, size=1500)\n",
    "lngs = np.random.uniform(low=-180.000, high=180.000, size=1500)\n",
    "lat_lngs = zip(lats, lngs)\n",
    "\n",
    "# Identify nearest city for each lat, lng combination\n",
    "for lat_lng in lat_lngs:\n",
    "    city = citipy.nearest_city(lat_lng[0], lat_lng[1]).city_name\n",
    "    \n",
    "    # If the city is unique, then add it to a our cities list\n",
    "    if city not in cities:\n",
    "        cities.append(city)\n",
    "\n",
    "# Print the city count to confirm sufficient count\n",
    "len(cities)"
   ]
  },
  {
   "cell_type": "code",
   "execution_count": 5,
   "metadata": {},
   "outputs": [
    {
     "data": {
      "text/plain": [
       "['tasiilaq', 'taolanaro', 'puerto ayora', 'kamenskoye', 'kapaa']"
      ]
     },
     "execution_count": 5,
     "metadata": {},
     "output_type": "execute_result"
    }
   ],
   "source": [
    "cities[0:5]"
   ]
  },
  {
   "cell_type": "code",
   "execution_count": 6,
   "metadata": {},
   "outputs": [
    {
     "data": {
      "text/plain": [
       "'http://api.openweathermap.org/data/2.5/weather?units=Imperial&APPID=25bc90a1196e6f153eece0bc0b0fc9eb'"
      ]
     },
     "execution_count": 6,
     "metadata": {},
     "output_type": "execute_result"
    }
   ],
   "source": [
    "url = \"http://api.openweathermap.org/data/2.5/weather?units=Imperial&APPID=\" + api_key\n",
    "url"
   ]
  },
  {
   "cell_type": "code",
   "execution_count": null,
   "metadata": {},
   "outputs": [
    {
     "name": "stdout",
     "output_type": "stream",
     "text": [
      "Beginning Data Retrieval\n",
      "------------------------------------------\n",
      "Processing Record 0|tasiilaq\n",
      "http://api.openweathermap.org/data/2.5/weather?units=Imperial&APPID=25bc90a1196e6f153eece0bc0b0fc9eb&q=tasiilaq\n",
      "Processing Record 1|taolanaro\n",
      "http://api.openweathermap.org/data/2.5/weather?units=Imperial&APPID=25bc90a1196e6f153eece0bc0b0fc9eb&q=taolanaro\n",
      "Processing Record 2|puerto ayora\n",
      "http://api.openweathermap.org/data/2.5/weather?units=Imperial&APPID=25bc90a1196e6f153eece0bc0b0fc9eb&q=puerto ayora\n",
      "Processing Record 3|kamenskoye\n",
      "http://api.openweathermap.org/data/2.5/weather?units=Imperial&APPID=25bc90a1196e6f153eece0bc0b0fc9eb&q=kamenskoye\n",
      "Processing Record 4|kapaa\n",
      "http://api.openweathermap.org/data/2.5/weather?units=Imperial&APPID=25bc90a1196e6f153eece0bc0b0fc9eb&q=kapaa\n",
      "Processing Record 5|hilo\n",
      "http://api.openweathermap.org/data/2.5/weather?units=Imperial&APPID=25bc90a1196e6f153eece0bc0b0fc9eb&q=hilo\n",
      "Processing Record 6|yellowknife\n",
      "http://api.openweathermap.org/data/2.5/weather?units=Imperial&APPID=25bc90a1196e6f153eece0bc0b0fc9eb&q=yellowknife\n",
      "Processing Record 7|zhangye\n",
      "http://api.openweathermap.org/data/2.5/weather?units=Imperial&APPID=25bc90a1196e6f153eece0bc0b0fc9eb&q=zhangye\n",
      "Processing Record 8|faya\n",
      "http://api.openweathermap.org/data/2.5/weather?units=Imperial&APPID=25bc90a1196e6f153eece0bc0b0fc9eb&q=faya\n",
      "Processing Record 9|ushuaia\n",
      "http://api.openweathermap.org/data/2.5/weather?units=Imperial&APPID=25bc90a1196e6f153eece0bc0b0fc9eb&q=ushuaia\n",
      "Processing Record 10|saint-pierre\n",
      "http://api.openweathermap.org/data/2.5/weather?units=Imperial&APPID=25bc90a1196e6f153eece0bc0b0fc9eb&q=saint-pierre\n",
      "Processing Record 11|punta arenas\n",
      "http://api.openweathermap.org/data/2.5/weather?units=Imperial&APPID=25bc90a1196e6f153eece0bc0b0fc9eb&q=punta arenas\n",
      "Processing Record 12|londonderry\n",
      "http://api.openweathermap.org/data/2.5/weather?units=Imperial&APPID=25bc90a1196e6f153eece0bc0b0fc9eb&q=londonderry\n",
      "Processing Record 13|new norfolk\n",
      "http://api.openweathermap.org/data/2.5/weather?units=Imperial&APPID=25bc90a1196e6f153eece0bc0b0fc9eb&q=new norfolk\n",
      "Processing Record 14|cherskiy\n",
      "http://api.openweathermap.org/data/2.5/weather?units=Imperial&APPID=25bc90a1196e6f153eece0bc0b0fc9eb&q=cherskiy\n",
      "Processing Record 15|atuona\n",
      "http://api.openweathermap.org/data/2.5/weather?units=Imperial&APPID=25bc90a1196e6f153eece0bc0b0fc9eb&q=atuona\n",
      "Processing Record 16|mahebourg\n",
      "http://api.openweathermap.org/data/2.5/weather?units=Imperial&APPID=25bc90a1196e6f153eece0bc0b0fc9eb&q=mahebourg\n",
      "Processing Record 17|lavrentiya\n",
      "http://api.openweathermap.org/data/2.5/weather?units=Imperial&APPID=25bc90a1196e6f153eece0bc0b0fc9eb&q=lavrentiya\n",
      "Processing Record 18|itatiaia\n",
      "http://api.openweathermap.org/data/2.5/weather?units=Imperial&APPID=25bc90a1196e6f153eece0bc0b0fc9eb&q=itatiaia\n",
      "Processing Record 19|lasem\n",
      "http://api.openweathermap.org/data/2.5/weather?units=Imperial&APPID=25bc90a1196e6f153eece0bc0b0fc9eb&q=lasem\n",
      "Processing Record 20|maragogi\n",
      "http://api.openweathermap.org/data/2.5/weather?units=Imperial&APPID=25bc90a1196e6f153eece0bc0b0fc9eb&q=maragogi\n",
      "Processing Record 21|bluff\n",
      "http://api.openweathermap.org/data/2.5/weather?units=Imperial&APPID=25bc90a1196e6f153eece0bc0b0fc9eb&q=bluff\n",
      "Processing Record 22|spearfish\n",
      "http://api.openweathermap.org/data/2.5/weather?units=Imperial&APPID=25bc90a1196e6f153eece0bc0b0fc9eb&q=spearfish\n",
      "Processing Record 23|busselton\n",
      "http://api.openweathermap.org/data/2.5/weather?units=Imperial&APPID=25bc90a1196e6f153eece0bc0b0fc9eb&q=busselton\n",
      "Processing Record 24|albany\n",
      "http://api.openweathermap.org/data/2.5/weather?units=Imperial&APPID=25bc90a1196e6f153eece0bc0b0fc9eb&q=albany\n",
      "Processing Record 25|bredasdorp\n",
      "http://api.openweathermap.org/data/2.5/weather?units=Imperial&APPID=25bc90a1196e6f153eece0bc0b0fc9eb&q=bredasdorp\n",
      "Processing Record 26|lagoa\n",
      "http://api.openweathermap.org/data/2.5/weather?units=Imperial&APPID=25bc90a1196e6f153eece0bc0b0fc9eb&q=lagoa\n",
      "Processing Record 27|cidreira\n",
      "http://api.openweathermap.org/data/2.5/weather?units=Imperial&APPID=25bc90a1196e6f153eece0bc0b0fc9eb&q=cidreira\n",
      "Processing Record 28|alice springs\n",
      "http://api.openweathermap.org/data/2.5/weather?units=Imperial&APPID=25bc90a1196e6f153eece0bc0b0fc9eb&q=alice springs\n",
      "Processing Record 29|kodiak\n",
      "http://api.openweathermap.org/data/2.5/weather?units=Imperial&APPID=25bc90a1196e6f153eece0bc0b0fc9eb&q=kodiak\n",
      "Processing Record 30|chapais\n",
      "http://api.openweathermap.org/data/2.5/weather?units=Imperial&APPID=25bc90a1196e6f153eece0bc0b0fc9eb&q=chapais\n",
      "Processing Record 31|eureka\n",
      "http://api.openweathermap.org/data/2.5/weather?units=Imperial&APPID=25bc90a1196e6f153eece0bc0b0fc9eb&q=eureka\n",
      "Processing Record 32|nikolskoye\n",
      "http://api.openweathermap.org/data/2.5/weather?units=Imperial&APPID=25bc90a1196e6f153eece0bc0b0fc9eb&q=nikolskoye\n",
      "Processing Record 33|amderma\n",
      "http://api.openweathermap.org/data/2.5/weather?units=Imperial&APPID=25bc90a1196e6f153eece0bc0b0fc9eb&q=amderma\n",
      "Processing Record 34|labuhan\n",
      "http://api.openweathermap.org/data/2.5/weather?units=Imperial&APPID=25bc90a1196e6f153eece0bc0b0fc9eb&q=labuhan\n",
      "Processing Record 35|sept-iles\n",
      "http://api.openweathermap.org/data/2.5/weather?units=Imperial&APPID=25bc90a1196e6f153eece0bc0b0fc9eb&q=sept-iles\n",
      "Processing Record 36|spornoye\n",
      "http://api.openweathermap.org/data/2.5/weather?units=Imperial&APPID=25bc90a1196e6f153eece0bc0b0fc9eb&q=spornoye\n",
      "Processing Record 37|marsh harbour\n",
      "http://api.openweathermap.org/data/2.5/weather?units=Imperial&APPID=25bc90a1196e6f153eece0bc0b0fc9eb&q=marsh harbour\n",
      "Processing Record 38|mataura\n",
      "http://api.openweathermap.org/data/2.5/weather?units=Imperial&APPID=25bc90a1196e6f153eece0bc0b0fc9eb&q=mataura\n",
      "Processing Record 39|shakawe\n",
      "http://api.openweathermap.org/data/2.5/weather?units=Imperial&APPID=25bc90a1196e6f153eece0bc0b0fc9eb&q=shakawe\n",
      "Processing Record 40|hobart\n",
      "http://api.openweathermap.org/data/2.5/weather?units=Imperial&APPID=25bc90a1196e6f153eece0bc0b0fc9eb&q=hobart\n",
      "Processing Record 41|kindu\n",
      "http://api.openweathermap.org/data/2.5/weather?units=Imperial&APPID=25bc90a1196e6f153eece0bc0b0fc9eb&q=kindu\n",
      "Processing Record 42|rikitea\n",
      "http://api.openweathermap.org/data/2.5/weather?units=Imperial&APPID=25bc90a1196e6f153eece0bc0b0fc9eb&q=rikitea\n",
      "Processing Record 43|saint george\n",
      "http://api.openweathermap.org/data/2.5/weather?units=Imperial&APPID=25bc90a1196e6f153eece0bc0b0fc9eb&q=saint george\n",
      "Processing Record 44|georgetown\n",
      "http://api.openweathermap.org/data/2.5/weather?units=Imperial&APPID=25bc90a1196e6f153eece0bc0b0fc9eb&q=georgetown\n",
      "Processing Record 45|tilichiki\n",
      "http://api.openweathermap.org/data/2.5/weather?units=Imperial&APPID=25bc90a1196e6f153eece0bc0b0fc9eb&q=tilichiki\n",
      "Processing Record 46|nelson bay\n",
      "http://api.openweathermap.org/data/2.5/weather?units=Imperial&APPID=25bc90a1196e6f153eece0bc0b0fc9eb&q=nelson bay\n",
      "Processing Record 47|rumphi\n",
      "http://api.openweathermap.org/data/2.5/weather?units=Imperial&APPID=25bc90a1196e6f153eece0bc0b0fc9eb&q=rumphi\n",
      "Processing Record 48|urucara\n",
      "http://api.openweathermap.org/data/2.5/weather?units=Imperial&APPID=25bc90a1196e6f153eece0bc0b0fc9eb&q=urucara\n",
      "Processing Record 49|lompoc\n",
      "http://api.openweathermap.org/data/2.5/weather?units=Imperial&APPID=25bc90a1196e6f153eece0bc0b0fc9eb&q=lompoc\n",
      "Processing Record 50|jamestown\n",
      "http://api.openweathermap.org/data/2.5/weather?units=Imperial&APPID=25bc90a1196e6f153eece0bc0b0fc9eb&q=jamestown\n",
      "Processing Record 51|saint-philippe\n",
      "http://api.openweathermap.org/data/2.5/weather?units=Imperial&APPID=25bc90a1196e6f153eece0bc0b0fc9eb&q=saint-philippe\n",
      "Processing Record 52|oranjestad\n",
      "http://api.openweathermap.org/data/2.5/weather?units=Imperial&APPID=25bc90a1196e6f153eece0bc0b0fc9eb&q=oranjestad\n",
      "Processing Record 53|touros\n",
      "http://api.openweathermap.org/data/2.5/weather?units=Imperial&APPID=25bc90a1196e6f153eece0bc0b0fc9eb&q=touros\n",
      "Processing Record 54|mogadishu\n",
      "http://api.openweathermap.org/data/2.5/weather?units=Imperial&APPID=25bc90a1196e6f153eece0bc0b0fc9eb&q=mogadishu\n",
      "Processing Record 55|turka\n",
      "http://api.openweathermap.org/data/2.5/weather?units=Imperial&APPID=25bc90a1196e6f153eece0bc0b0fc9eb&q=turka\n",
      "Processing Record 56|klaksvik\n",
      "http://api.openweathermap.org/data/2.5/weather?units=Imperial&APPID=25bc90a1196e6f153eece0bc0b0fc9eb&q=klaksvik\n",
      "Processing Record 57|kahului\n",
      "http://api.openweathermap.org/data/2.5/weather?units=Imperial&APPID=25bc90a1196e6f153eece0bc0b0fc9eb&q=kahului\n"
     ]
    },
    {
     "name": "stdout",
     "output_type": "stream",
     "text": [
      "Processing Record 58|solnechnyy\n",
      "http://api.openweathermap.org/data/2.5/weather?units=Imperial&APPID=25bc90a1196e6f153eece0bc0b0fc9eb&q=solnechnyy\n",
      "Processing Record 59|cayenne\n",
      "http://api.openweathermap.org/data/2.5/weather?units=Imperial&APPID=25bc90a1196e6f153eece0bc0b0fc9eb&q=cayenne\n",
      "Processing Record 60|port alfred\n",
      "http://api.openweathermap.org/data/2.5/weather?units=Imperial&APPID=25bc90a1196e6f153eece0bc0b0fc9eb&q=port alfred\n",
      "Processing Record 61|illoqqortoormiut\n",
      "http://api.openweathermap.org/data/2.5/weather?units=Imperial&APPID=25bc90a1196e6f153eece0bc0b0fc9eb&q=illoqqortoormiut\n",
      "Processing Record 62|guatire\n",
      "http://api.openweathermap.org/data/2.5/weather?units=Imperial&APPID=25bc90a1196e6f153eece0bc0b0fc9eb&q=guatire\n",
      "Processing Record 63|saldanha\n",
      "http://api.openweathermap.org/data/2.5/weather?units=Imperial&APPID=25bc90a1196e6f153eece0bc0b0fc9eb&q=saldanha\n",
      "Processing Record 64|tyukalinsk\n",
      "http://api.openweathermap.org/data/2.5/weather?units=Imperial&APPID=25bc90a1196e6f153eece0bc0b0fc9eb&q=tyukalinsk\n",
      "Processing Record 65|bulolo\n",
      "http://api.openweathermap.org/data/2.5/weather?units=Imperial&APPID=25bc90a1196e6f153eece0bc0b0fc9eb&q=bulolo\n",
      "Processing Record 66|vaini\n",
      "http://api.openweathermap.org/data/2.5/weather?units=Imperial&APPID=25bc90a1196e6f153eece0bc0b0fc9eb&q=vaini\n",
      "Processing Record 67|ponta do sol\n",
      "http://api.openweathermap.org/data/2.5/weather?units=Imperial&APPID=25bc90a1196e6f153eece0bc0b0fc9eb&q=ponta do sol\n",
      "Processing Record 68|east london\n",
      "http://api.openweathermap.org/data/2.5/weather?units=Imperial&APPID=25bc90a1196e6f153eece0bc0b0fc9eb&q=east london\n",
      "Processing Record 69|nanortalik\n",
      "http://api.openweathermap.org/data/2.5/weather?units=Imperial&APPID=25bc90a1196e6f153eece0bc0b0fc9eb&q=nanortalik\n",
      "Processing Record 70|port lincoln\n",
      "http://api.openweathermap.org/data/2.5/weather?units=Imperial&APPID=25bc90a1196e6f153eece0bc0b0fc9eb&q=port lincoln\n",
      "Processing Record 71|berlevag\n",
      "http://api.openweathermap.org/data/2.5/weather?units=Imperial&APPID=25bc90a1196e6f153eece0bc0b0fc9eb&q=berlevag\n",
      "Processing Record 72|isangel\n",
      "http://api.openweathermap.org/data/2.5/weather?units=Imperial&APPID=25bc90a1196e6f153eece0bc0b0fc9eb&q=isangel\n",
      "Processing Record 73|bull savanna\n",
      "http://api.openweathermap.org/data/2.5/weather?units=Imperial&APPID=25bc90a1196e6f153eece0bc0b0fc9eb&q=bull savanna\n",
      "Processing Record 74|barentsburg\n",
      "http://api.openweathermap.org/data/2.5/weather?units=Imperial&APPID=25bc90a1196e6f153eece0bc0b0fc9eb&q=barentsburg\n",
      "Processing Record 75|ruatoria\n",
      "http://api.openweathermap.org/data/2.5/weather?units=Imperial&APPID=25bc90a1196e6f153eece0bc0b0fc9eb&q=ruatoria\n",
      "Processing Record 76|kimbe\n",
      "http://api.openweathermap.org/data/2.5/weather?units=Imperial&APPID=25bc90a1196e6f153eece0bc0b0fc9eb&q=kimbe\n",
      "Processing Record 77|salalah\n",
      "http://api.openweathermap.org/data/2.5/weather?units=Imperial&APPID=25bc90a1196e6f153eece0bc0b0fc9eb&q=salalah\n",
      "Processing Record 78|deputatskiy\n",
      "http://api.openweathermap.org/data/2.5/weather?units=Imperial&APPID=25bc90a1196e6f153eece0bc0b0fc9eb&q=deputatskiy\n",
      "Processing Record 79|along\n",
      "http://api.openweathermap.org/data/2.5/weather?units=Imperial&APPID=25bc90a1196e6f153eece0bc0b0fc9eb&q=along\n",
      "Processing Record 80|tuatapere\n",
      "http://api.openweathermap.org/data/2.5/weather?units=Imperial&APPID=25bc90a1196e6f153eece0bc0b0fc9eb&q=tuatapere\n",
      "Processing Record 81|grand river south east\n",
      "http://api.openweathermap.org/data/2.5/weather?units=Imperial&APPID=25bc90a1196e6f153eece0bc0b0fc9eb&q=grand river south east\n",
      "Processing Record 82|dawlatabad\n",
      "http://api.openweathermap.org/data/2.5/weather?units=Imperial&APPID=25bc90a1196e6f153eece0bc0b0fc9eb&q=dawlatabad\n",
      "Processing Record 83|lolua\n",
      "http://api.openweathermap.org/data/2.5/weather?units=Imperial&APPID=25bc90a1196e6f153eece0bc0b0fc9eb&q=lolua\n",
      "Processing Record 84|vila franca do campo\n",
      "http://api.openweathermap.org/data/2.5/weather?units=Imperial&APPID=25bc90a1196e6f153eece0bc0b0fc9eb&q=vila franca do campo\n",
      "Processing Record 85|nome\n",
      "http://api.openweathermap.org/data/2.5/weather?units=Imperial&APPID=25bc90a1196e6f153eece0bc0b0fc9eb&q=nome\n",
      "Processing Record 86|upernavik\n",
      "http://api.openweathermap.org/data/2.5/weather?units=Imperial&APPID=25bc90a1196e6f153eece0bc0b0fc9eb&q=upernavik\n",
      "Processing Record 87|sentyabrskiy\n",
      "http://api.openweathermap.org/data/2.5/weather?units=Imperial&APPID=25bc90a1196e6f153eece0bc0b0fc9eb&q=sentyabrskiy\n",
      "Processing Record 88|severo-kurilsk\n",
      "http://api.openweathermap.org/data/2.5/weather?units=Imperial&APPID=25bc90a1196e6f153eece0bc0b0fc9eb&q=severo-kurilsk\n",
      "Processing Record 89|lebu\n",
      "http://api.openweathermap.org/data/2.5/weather?units=Imperial&APPID=25bc90a1196e6f153eece0bc0b0fc9eb&q=lebu\n",
      "Processing Record 90|barguzin\n",
      "http://api.openweathermap.org/data/2.5/weather?units=Imperial&APPID=25bc90a1196e6f153eece0bc0b0fc9eb&q=barguzin\n",
      "Processing Record 91|mao\n",
      "http://api.openweathermap.org/data/2.5/weather?units=Imperial&APPID=25bc90a1196e6f153eece0bc0b0fc9eb&q=mao\n",
      "Processing Record 92|hambantota\n",
      "http://api.openweathermap.org/data/2.5/weather?units=Imperial&APPID=25bc90a1196e6f153eece0bc0b0fc9eb&q=hambantota\n",
      "Processing Record 93|saryshagan\n",
      "http://api.openweathermap.org/data/2.5/weather?units=Imperial&APPID=25bc90a1196e6f153eece0bc0b0fc9eb&q=saryshagan\n",
      "Processing Record 94|zhigansk\n",
      "http://api.openweathermap.org/data/2.5/weather?units=Imperial&APPID=25bc90a1196e6f153eece0bc0b0fc9eb&q=zhigansk\n",
      "Processing Record 95|roma\n",
      "http://api.openweathermap.org/data/2.5/weather?units=Imperial&APPID=25bc90a1196e6f153eece0bc0b0fc9eb&q=roma\n",
      "Processing Record 96|fukue\n",
      "http://api.openweathermap.org/data/2.5/weather?units=Imperial&APPID=25bc90a1196e6f153eece0bc0b0fc9eb&q=fukue\n",
      "Processing Record 97|hermanus\n",
      "http://api.openweathermap.org/data/2.5/weather?units=Imperial&APPID=25bc90a1196e6f153eece0bc0b0fc9eb&q=hermanus\n",
      "Processing Record 98|namtsy\n",
      "http://api.openweathermap.org/data/2.5/weather?units=Imperial&APPID=25bc90a1196e6f153eece0bc0b0fc9eb&q=namtsy\n",
      "Processing Record 99|reina mercedes\n",
      "http://api.openweathermap.org/data/2.5/weather?units=Imperial&APPID=25bc90a1196e6f153eece0bc0b0fc9eb&q=reina mercedes\n",
      "Processing Record 100|celestun\n",
      "http://api.openweathermap.org/data/2.5/weather?units=Imperial&APPID=25bc90a1196e6f153eece0bc0b0fc9eb&q=celestun\n",
      "Processing Record 101|belushya guba\n",
      "http://api.openweathermap.org/data/2.5/weather?units=Imperial&APPID=25bc90a1196e6f153eece0bc0b0fc9eb&q=belushya guba\n",
      "Processing Record 102|coihaique\n",
      "http://api.openweathermap.org/data/2.5/weather?units=Imperial&APPID=25bc90a1196e6f153eece0bc0b0fc9eb&q=coihaique\n",
      "Processing Record 103|nahrin\n",
      "http://api.openweathermap.org/data/2.5/weather?units=Imperial&APPID=25bc90a1196e6f153eece0bc0b0fc9eb&q=nahrin\n",
      "Processing Record 104|esso\n",
      "http://api.openweathermap.org/data/2.5/weather?units=Imperial&APPID=25bc90a1196e6f153eece0bc0b0fc9eb&q=esso\n",
      "Processing Record 105|faanui\n",
      "http://api.openweathermap.org/data/2.5/weather?units=Imperial&APPID=25bc90a1196e6f153eece0bc0b0fc9eb&q=faanui\n",
      "Processing Record 106|cockburn harbour\n",
      "http://api.openweathermap.org/data/2.5/weather?units=Imperial&APPID=25bc90a1196e6f153eece0bc0b0fc9eb&q=cockburn harbour\n",
      "Processing Record 107|fort nelson\n",
      "http://api.openweathermap.org/data/2.5/weather?units=Imperial&APPID=25bc90a1196e6f153eece0bc0b0fc9eb&q=fort nelson\n",
      "Processing Record 108|nizhneyansk\n",
      "http://api.openweathermap.org/data/2.5/weather?units=Imperial&APPID=25bc90a1196e6f153eece0bc0b0fc9eb&q=nizhneyansk\n",
      "Processing Record 109|lorengau\n",
      "http://api.openweathermap.org/data/2.5/weather?units=Imperial&APPID=25bc90a1196e6f153eece0bc0b0fc9eb&q=lorengau\n",
      "Processing Record 110|lata\n",
      "http://api.openweathermap.org/data/2.5/weather?units=Imperial&APPID=25bc90a1196e6f153eece0bc0b0fc9eb&q=lata\n",
      "Processing Record 111|airai\n",
      "http://api.openweathermap.org/data/2.5/weather?units=Imperial&APPID=25bc90a1196e6f153eece0bc0b0fc9eb&q=airai\n",
      "Processing Record 112|brigantine\n",
      "http://api.openweathermap.org/data/2.5/weather?units=Imperial&APPID=25bc90a1196e6f153eece0bc0b0fc9eb&q=brigantine\n",
      "Processing Record 113|riyadh\n",
      "http://api.openweathermap.org/data/2.5/weather?units=Imperial&APPID=25bc90a1196e6f153eece0bc0b0fc9eb&q=riyadh\n",
      "Processing Record 114|sur\n",
      "http://api.openweathermap.org/data/2.5/weather?units=Imperial&APPID=25bc90a1196e6f153eece0bc0b0fc9eb&q=sur\n"
     ]
    },
    {
     "name": "stdout",
     "output_type": "stream",
     "text": [
      "Processing Record 115|kihei\n",
      "http://api.openweathermap.org/data/2.5/weather?units=Imperial&APPID=25bc90a1196e6f153eece0bc0b0fc9eb&q=kihei\n",
      "Processing Record 116|yabelo\n",
      "http://api.openweathermap.org/data/2.5/weather?units=Imperial&APPID=25bc90a1196e6f153eece0bc0b0fc9eb&q=yabelo\n",
      "Processing Record 117|apiai\n",
      "http://api.openweathermap.org/data/2.5/weather?units=Imperial&APPID=25bc90a1196e6f153eece0bc0b0fc9eb&q=apiai\n",
      "Processing Record 118|zabol\n",
      "http://api.openweathermap.org/data/2.5/weather?units=Imperial&APPID=25bc90a1196e6f153eece0bc0b0fc9eb&q=zabol\n",
      "Processing Record 119|monrovia\n",
      "http://api.openweathermap.org/data/2.5/weather?units=Imperial&APPID=25bc90a1196e6f153eece0bc0b0fc9eb&q=monrovia\n",
      "Processing Record 120|longyearbyen\n",
      "http://api.openweathermap.org/data/2.5/weather?units=Imperial&APPID=25bc90a1196e6f153eece0bc0b0fc9eb&q=longyearbyen\n",
      "Processing Record 121|ahumada\n",
      "http://api.openweathermap.org/data/2.5/weather?units=Imperial&APPID=25bc90a1196e6f153eece0bc0b0fc9eb&q=ahumada\n",
      "Processing Record 122|geraldton\n",
      "http://api.openweathermap.org/data/2.5/weather?units=Imperial&APPID=25bc90a1196e6f153eece0bc0b0fc9eb&q=geraldton\n",
      "Processing Record 123|la crosse\n",
      "http://api.openweathermap.org/data/2.5/weather?units=Imperial&APPID=25bc90a1196e6f153eece0bc0b0fc9eb&q=la crosse\n",
      "Processing Record 124|bengkulu\n",
      "http://api.openweathermap.org/data/2.5/weather?units=Imperial&APPID=25bc90a1196e6f153eece0bc0b0fc9eb&q=bengkulu\n",
      "Processing Record 125|harnosand\n",
      "http://api.openweathermap.org/data/2.5/weather?units=Imperial&APPID=25bc90a1196e6f153eece0bc0b0fc9eb&q=harnosand\n",
      "Processing Record 126|baymak\n",
      "http://api.openweathermap.org/data/2.5/weather?units=Imperial&APPID=25bc90a1196e6f153eece0bc0b0fc9eb&q=baymak\n",
      "Processing Record 127|suileng\n",
      "http://api.openweathermap.org/data/2.5/weather?units=Imperial&APPID=25bc90a1196e6f153eece0bc0b0fc9eb&q=suileng\n",
      "Processing Record 128|torbay\n",
      "http://api.openweathermap.org/data/2.5/weather?units=Imperial&APPID=25bc90a1196e6f153eece0bc0b0fc9eb&q=torbay\n",
      "Processing Record 129|sola\n",
      "http://api.openweathermap.org/data/2.5/weather?units=Imperial&APPID=25bc90a1196e6f153eece0bc0b0fc9eb&q=sola\n",
      "Processing Record 130|palabuhanratu\n",
      "http://api.openweathermap.org/data/2.5/weather?units=Imperial&APPID=25bc90a1196e6f153eece0bc0b0fc9eb&q=palabuhanratu\n",
      "Processing Record 131|diapaga\n",
      "http://api.openweathermap.org/data/2.5/weather?units=Imperial&APPID=25bc90a1196e6f153eece0bc0b0fc9eb&q=diapaga\n",
      "Processing Record 132|bethel\n",
      "http://api.openweathermap.org/data/2.5/weather?units=Imperial&APPID=25bc90a1196e6f153eece0bc0b0fc9eb&q=bethel\n",
      "Processing Record 133|iqaluit\n",
      "http://api.openweathermap.org/data/2.5/weather?units=Imperial&APPID=25bc90a1196e6f153eece0bc0b0fc9eb&q=iqaluit\n",
      "Processing Record 134|naze\n",
      "http://api.openweathermap.org/data/2.5/weather?units=Imperial&APPID=25bc90a1196e6f153eece0bc0b0fc9eb&q=naze\n",
      "Processing Record 135|butaritari\n",
      "http://api.openweathermap.org/data/2.5/weather?units=Imperial&APPID=25bc90a1196e6f153eece0bc0b0fc9eb&q=butaritari\n",
      "Processing Record 136|qaanaaq\n",
      "http://api.openweathermap.org/data/2.5/weather?units=Imperial&APPID=25bc90a1196e6f153eece0bc0b0fc9eb&q=qaanaaq\n",
      "Processing Record 137|arraial do cabo\n",
      "http://api.openweathermap.org/data/2.5/weather?units=Imperial&APPID=25bc90a1196e6f153eece0bc0b0fc9eb&q=arraial do cabo\n"
     ]
    }
   ],
   "source": [
    "print(\"Beginning Data Retrieval\\n------------------------------------------\")\n",
    "\n",
    "weather_data = []\n",
    "record_counter = 0\n",
    "\n",
    "for city in cities:\n",
    "    response = requests.get(f\"{url}&q={city}\").json()\n",
    "    print(f\"Processing Record {record_counter}|{city}\")\n",
    "    print(f\"{url}&q={city}\")\n",
    "    \n",
    "    weather_data.append(response)\n",
    "    \n",
    "    record_counter += 1\n",
    "    time.sleep(3)\n",
    "    \n",
    "print(\"------------------------------------------\")\n",
    "print(\"Data Retrieval Complete\\n------------------------------------------\")"
   ]
  },
  {
   "cell_type": "code",
   "execution_count": null,
   "metadata": {},
   "outputs": [],
   "source": [
    "weather_data[10]"
   ]
  },
  {
   "cell_type": "code",
   "execution_count": null,
   "metadata": {},
   "outputs": [],
   "source": [
    "city_name=[]\n",
    "country_code=[]\n",
    "date=[]\n",
    "lat_data=[]\n",
    "lon_data=[]\n",
    "clouds_data=[]\n",
    "humidity_data=[]\n",
    "temp_data=[]\n",
    "wind_data=[]\n",
    "\n",
    "for data in weather_data:\n",
    "    try:\n",
    "        country_code.append(data.get(\"sys\").get(\"country\"))\n",
    "        city_name.append(data.get(\"name\"))\n",
    "        date.append(data.get(\"dt\")) \n",
    "        lat_data.append(data.get(\"coord\").get(\"lat\"))\n",
    "        lon_data.append(data.get(\"coord\").get(\"lon\")) \n",
    "        clouds_data.append(data.get('clouds').get(\"all\")) \n",
    "        humidity_data.append(data.get('main').get('humidity')) \n",
    "        temp_data.append(data.get('main').get('temp_max')) \n",
    "        wind_data.append(data.get('wind').get('speed')) \n",
    "    except:\n",
    "        print(\"Skip\")\n",
    "    continue\n",
    "\n",
    "city_data = {\"City\": city_name, \"Country\": country_code,\"Date\":date, \"Lat\": lat_data, \"Lng\": lon_data, \"Max Temp\":temp_data,\n",
    "               \"Cloudiness\": clouds_data, \"Humidity\": humidity_data, \"Wind Speed\": wind_data}\n",
    "city_data = pd.DataFrame(city_data)\n",
    "city_data.head()"
   ]
  },
  {
   "cell_type": "code",
   "execution_count": null,
   "metadata": {},
   "outputs": [],
   "source": [
    "city_data.count()"
   ]
  },
  {
   "cell_type": "markdown",
   "metadata": {},
   "source": [
    " Latitude vs. Temperature Plot"
   ]
  },
  {
   "cell_type": "code",
   "execution_count": null,
   "metadata": {},
   "outputs": [],
   "source": [
    "plt.scatter(city_data[\"Lat\"], city_data[\"Max Temp\"], marker=\"o\", s=10)\n",
    "\n",
    "plt.title(\"Latitude vs. Temperature Plot\")\n",
    "plt.ylabel(\"Temperature (F)\")\n",
    "plt.xlabel(\"Latitude\")\n",
    "plt.grid(True)\n",
    "\n",
    "plt.savefig(\"Latitude_Temp_Plot.png\")\n",
    "plt.show()"
   ]
  },
  {
   "cell_type": "markdown",
   "metadata": {},
   "source": [
    " Latitude vs. Humidity Plot\n"
   ]
  },
  {
   "cell_type": "code",
   "execution_count": null,
   "metadata": {},
   "outputs": [],
   "source": [
    "plt.scatter(city_data[\"Lat\"], city_data[\"Humidity\"], marker=\"x\", s=10)\n",
    "\n",
    "plt.title(\"Latitude vs. Humidity Plot\")\n",
    "plt.ylabel(\"Humidity\")\n",
    "plt.xlabel(\"Latitude\")\n",
    "plt.grid(True)\n",
    "\n",
    "plt.savefig(\"Latitude_Humidity_Plot.png\")\n",
    "plt.show()"
   ]
  },
  {
   "cell_type": "markdown",
   "metadata": {},
   "source": [
    " Latitude vs. Cloudiness Plot"
   ]
  },
  {
   "cell_type": "code",
   "execution_count": null,
   "metadata": {},
   "outputs": [],
   "source": [
    "plt.scatter(city_data[\"Lat\"], city_data[\"Cloudiness\"], marker=\"+\", s=10)\n",
    "\n",
    "plt.title(\"Latitude vs. Cloudiness Plot\")\n",
    "plt.ylabel(\"Cloudiness\")\n",
    "plt.xlabel(\"Latitude\")\n",
    "plt.grid(True)\n",
    "\n",
    "plt.savefig(\"Latitude_Cloudiness_Plot.png\")\n",
    "plt.show()"
   ]
  },
  {
   "cell_type": "code",
   "execution_count": null,
   "metadata": {},
   "outputs": [],
   "source": [
    "city_data.to_csv(\"WeatherPy_Output.csv\")"
   ]
  },
  {
   "cell_type": "markdown",
   "metadata": {},
   "source": [
    "Three (3) observable trends based on the data\n",
    "\n",
    "Temperature increases as Latitude approaches 0\n",
    "Temperature peak around 20 degrees\n",
    "Cities closer to the equator have the highest humidity"
   ]
  },
  {
   "cell_type": "code",
   "execution_count": null,
   "metadata": {},
   "outputs": [],
   "source": []
  }
 ],
 "metadata": {
  "kernelspec": {
   "display_name": "Python [conda env:RunnersRun]",
   "language": "python",
   "name": "conda-env-RunnersRun-py"
  },
  "language_info": {
   "codemirror_mode": {
    "name": "ipython",
    "version": 3
   },
   "file_extension": ".py",
   "mimetype": "text/x-python",
   "name": "python",
   "nbconvert_exporter": "python",
   "pygments_lexer": "ipython3",
   "version": "3.6.5"
  }
 },
 "nbformat": 4,
 "nbformat_minor": 2
}
